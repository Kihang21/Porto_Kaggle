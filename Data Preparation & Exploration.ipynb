{
 "cells": [
  {
   "cell_type": "markdown",
   "id": "d789e615",
   "metadata": {},
   "source": [
    "### Introduction"
   ]
  },
  {
   "cell_type": "markdown",
   "id": "245c2d58",
   "metadata": {},
   "source": [
    " - Visual inspection of your data\n",
    "- Defining the metadata\n",
    "- Descriptive statistics\n",
    "- Handling imbalanced classes\n",
    "- Data quality checks\n",
    "- Exploratory data visualization\n",
    "- Feature engineering\n",
    "- Feature selection\n",
    "- Feature scaling"
   ]
  },
  {
   "cell_type": "code",
   "execution_count": 1,
   "id": "83bd4933",
   "metadata": {},
   "outputs": [],
   "source": [
    "import pandas as pd\n",
    "import numpy as np\n",
    "import matplotlib.pyplot as plt\n",
    "import seaborn as sns\n",
    "from sklearn.impute import SimpleImputer\n",
    "from sklearn.preprocessing import PolynomialFeatures\n",
    "from sklearn.preprocessing import StandardScaler\n",
    "from sklearn.feature_selection import VarianceThreshold\n",
    "from sklearn.feature_selection import SelectFromModel\n",
    "from sklearn.utils import shuffle\n",
    "from sklearn.ensemble import RandomForestClassifier\n",
    "\n",
    "import warnings\n",
    "warnings.filterwarnings('ignore')\n",
    "\n",
    "pd.set_option('display.max_columns', 100)\n",
    "pd.set_option('display.max_rows', 100)"
   ]
  },
  {
   "cell_type": "code",
   "execution_count": null,
   "id": "acddc623",
   "metadata": {},
   "outputs": [],
   "source": [
    "train = pd.read_csv('train.csv')\n",
    "test = pd.read_csv('test.csv')"
   ]
  },
  {
   "cell_type": "code",
   "execution_count": null,
   "id": "302e6eeb",
   "metadata": {},
   "outputs": [],
   "source": [
    "test.shape"
   ]
  },
  {
   "cell_type": "code",
   "execution_count": null,
   "id": "a33b8cff",
   "metadata": {},
   "outputs": [],
   "source": [
    "cat_cols = [col for col in train.columns if 'cat' in col]"
   ]
  },
  {
   "cell_type": "code",
   "execution_count": null,
   "id": "abbb96e9",
   "metadata": {},
   "outputs": [],
   "source": [
    "cat_cols"
   ]
  },
  {
   "cell_type": "code",
   "execution_count": null,
   "id": "6c42bf7c",
   "metadata": {
    "scrolled": false
   },
   "outputs": [],
   "source": [
    "train[cat_cols[0]].value_counts()"
   ]
  },
  {
   "cell_type": "code",
   "execution_count": null,
   "id": "ec75ffd3",
   "metadata": {},
   "outputs": [],
   "source": [
    "for col in cat_cols:\n",
    "    print(col, train[col].nunique())"
   ]
  },
  {
   "cell_type": "code",
   "execution_count": null,
   "id": "507a11c2",
   "metadata": {},
   "outputs": [],
   "source": [
    "train.shape"
   ]
  },
  {
   "cell_type": "code",
   "execution_count": null,
   "id": "91bfa117",
   "metadata": {},
   "outputs": [],
   "source": [
    "test.shape"
   ]
  },
  {
   "cell_type": "code",
   "execution_count": null,
   "id": "fe4587df",
   "metadata": {},
   "outputs": [],
   "source": [
    "train.drop_duplicates()\n",
    "train.shape"
   ]
  },
  {
   "cell_type": "code",
   "execution_count": null,
   "id": "6c1a0325",
   "metadata": {},
   "outputs": [],
   "source": [
    "train.info()"
   ]
  },
  {
   "cell_type": "markdown",
   "id": "7f46eea1",
   "metadata": {},
   "source": [
    "### - Metadata"
   ]
  },
  {
   "cell_type": "code",
   "execution_count": null,
   "id": "f6390297",
   "metadata": {},
   "outputs": [],
   "source": [
    "data = []\n",
    "for f in train.columns:\n",
    "    if f == 'target':\n",
    "        role = 'target'\n",
    "    elif f == 'id':\n",
    "        role = 'id'\n",
    "    else:\n",
    "        role = 'input'\n",
    "    \n",
    "    if 'bin' in f or f == 'target':\n",
    "        level = 'binary'\n",
    "    elif 'cat' in f or f == 'id':\n",
    "        level = 'nominal'\n",
    "    elif train[f].dtype == float:\n",
    "        level = 'interval'\n",
    "    elif train[f].dtype == int:\n",
    "        level = 'ordinal'\n",
    "        \n",
    "    keep = True\n",
    "    if f == 'id':\n",
    "        keep = False\n",
    "        \n",
    "    dtype = train[f].dtype\n",
    "    \n",
    "    f_dict = {\n",
    "        'varname': f,\n",
    "        'role': role,\n",
    "        'level': level,\n",
    "        'keep': keep,\n",
    "        'dtype': dtype\n",
    "    }\n",
    "    data.append(f_dict)\n",
    "    \n",
    "meta = pd.DataFrame(data, columns=['varname', 'role', 'level', 'keep', 'dtype'])\n",
    "meta.set_index('varname', inplace=True)"
   ]
  },
  {
   "cell_type": "code",
   "execution_count": null,
   "id": "25f2ee67",
   "metadata": {},
   "outputs": [],
   "source": [
    "meta"
   ]
  },
  {
   "cell_type": "code",
   "execution_count": null,
   "id": "ed8a39a7",
   "metadata": {
    "scrolled": true
   },
   "outputs": [],
   "source": [
    "meta[(meta.level == 'nominal') & (meta.keep)].index"
   ]
  },
  {
   "cell_type": "code",
   "execution_count": null,
   "id": "1ef5074b",
   "metadata": {},
   "outputs": [],
   "source": [
    "pd.DataFrame({'count' : meta.groupby(['role', 'level'])['role'].size()}).reset_index()"
   ]
  },
  {
   "cell_type": "markdown",
   "id": "416dae40",
   "metadata": {},
   "source": [
    "### Interval variables"
   ]
  },
  {
   "cell_type": "code",
   "execution_count": null,
   "id": "6c2b1494",
   "metadata": {},
   "outputs": [],
   "source": [
    "categorical_feats = [col for col in train.columns if 'cat' in col]"
   ]
  },
  {
   "cell_type": "code",
   "execution_count": null,
   "id": "7b8d4616",
   "metadata": {},
   "outputs": [],
   "source": [
    "categorical_feats"
   ]
  },
  {
   "cell_type": "code",
   "execution_count": null,
   "id": "69537db6",
   "metadata": {},
   "outputs": [],
   "source": [
    "v = meta[(meta.level == 'interval') & (meta.keep)].index\n",
    "train[v].describe()"
   ]
  },
  {
   "cell_type": "markdown",
   "id": "e26f2970",
   "metadata": {},
   "source": [
    "- only ps_reg_03 has missing values\n",
    "- ps_car_12 and ps_car_15 have missing values"
   ]
  },
  {
   "cell_type": "code",
   "execution_count": null,
   "id": "7099ca21",
   "metadata": {},
   "outputs": [],
   "source": [
    "v = meta[(meta.level == 'binary') & (meta.keep)].index\n",
    "train[v].describe()"
   ]
  },
  {
   "cell_type": "markdown",
   "id": "9f53996f",
   "metadata": {},
   "source": [
    "## Handling imbalanced classes"
   ]
  },
  {
   "cell_type": "markdown",
   "id": "94df7c0f",
   "metadata": {},
   "source": [
    "- oversampling records with target = 1\n",
    "- undersampling records with target = 0"
   ]
  },
  {
   "cell_type": "code",
   "execution_count": null,
   "id": "4c878535",
   "metadata": {},
   "outputs": [],
   "source": [
    "desired_apriori = 0.1\n",
    "\n",
    "idx_0 = train[train.target == 0].index\n",
    "idx_1 = train[train.target == 1].index\n",
    "\n",
    "nb_0 = len(train.loc[idx_0])\n",
    "nb_1 = len(train.loc[idx_1])\n",
    "\n",
    "undersampling_rate = ((1 - desired_apriori) * nb_1)/(nb_0 * desired_apriori)\n",
    "undersampled_nb_0 = int(undersampling_rate * nb_0)\n",
    "print('Rate to undersample records with target = 0: {}'.format(undersampling_rate))\n",
    "print('Number of records with target = 0 after undersampling: {}'.format(undersampled_nb_0))\n",
    "\n",
    "undersampled_idx = shuffle(idx_0, random_state=37, n_samples=undersampled_nb_0)\n",
    "\n",
    "idx_list = list(undersampled_idx) + list(idx_1)\n",
    "\n",
    "train = train.loc[idx_list].reset_index(drop=True)"
   ]
  },
  {
   "cell_type": "markdown",
   "id": "390129ef",
   "metadata": {},
   "source": [
    "### Data Quality Checks"
   ]
  },
  {
   "cell_type": "code",
   "execution_count": null,
   "id": "ae94e1bb",
   "metadata": {},
   "outputs": [],
   "source": [
    "vars_with_missing = []\n",
    "\n",
    "for f in train.columns:\n",
    "    missings = train[train[f] == -1][f].count()\n",
    "    if missings > 0:\n",
    "        vars_with_missing.append(f)\n",
    "        missings_perc = missings / train.shape[0]\n",
    "        \n",
    "        print('Variable {} has {} records ({:.2%}) with missing values'.format(f, missings, missings_perc))\n",
    "        \n",
    "print('In total, there are {} variables with missing values'.format(len(vars_with_missing)))"
   ]
  },
  {
   "cell_type": "code",
   "execution_count": null,
   "id": "7da4436c",
   "metadata": {},
   "outputs": [],
   "source": [
    "vars_to_drop = ['ps_car_03_cat', 'ps_car_05_cat']\n",
    "train.drop(vars_to_drop, axis = 1, inplace = True)\n",
    "meta.loc[(vars_to_drop),'keep'] = False"
   ]
  },
  {
   "cell_type": "code",
   "execution_count": null,
   "id": "0d0a2337",
   "metadata": {},
   "outputs": [],
   "source": [
    "mean_imp = SimpleImputer(missing_values=-1, strategy='mean')\n",
    "mode_imp = SimpleImputer(missing_values=-1, strategy='most_frequent')\n",
    "\n",
    "train['ps_reg_03'] = mean_imp.fit_transform(train[['ps_reg_03']]).ravel()\n",
    "train['ps_car_12'] = mean_imp.fit_transform(train[['ps_car_12']]).ravel()\n",
    "train['ps_car_14'] = mean_imp.fit_transform(train[['ps_car_14']]).ravel()\n",
    "train['ps_car_11'] = mode_imp.fit_transform(train[['ps_car_11']]).ravel()"
   ]
  },
  {
   "cell_type": "code",
   "execution_count": null,
   "id": "745914bd",
   "metadata": {},
   "outputs": [],
   "source": [
    "mean_imp.fit_transform(train[['ps_reg_03']]).ravel()"
   ]
  },
  {
   "cell_type": "code",
   "execution_count": null,
   "id": "d99011c1",
   "metadata": {},
   "outputs": [],
   "source": [
    "mode_imp.fit_transform(train[['ps_car_11']]).ravel()"
   ]
  },
  {
   "cell_type": "markdown",
   "id": "a678a855",
   "metadata": {},
   "source": [
    "#### Checking the cardinality of the categorical variables"
   ]
  },
  {
   "cell_type": "code",
   "execution_count": null,
   "id": "e508058b",
   "metadata": {},
   "outputs": [],
   "source": [
    "v = meta[(meta.level == 'nominal') & (meta.keep)].index\n",
    "sum = 0\n",
    "\n",
    "for f in v:\n",
    "    dist_values = train[f].value_counts().shape[0]\n",
    "    sum += dist_values\n",
    "    print('Variable {} has {} distinct values'.format(f, dist_values))"
   ]
  },
  {
   "cell_type": "code",
   "execution_count": null,
   "id": "d42aa818",
   "metadata": {
    "scrolled": true
   },
   "outputs": [],
   "source": [
    "sum"
   ]
  },
  {
   "cell_type": "code",
   "execution_count": null,
   "id": "825ef521",
   "metadata": {},
   "outputs": [],
   "source": [
    "def add_noise(series, noise_level):\n",
    "    return series * (1 + noise_level * np.random.randn(len(series)))\n",
    "\n",
    "def target_encode(trn_series=None, \n",
    "                  tst_series=None, \n",
    "                  target=None, \n",
    "                  min_samples_leaf=1, \n",
    "                  smoothing=1,\n",
    "                  noise_level=0):\n",
    "    \n",
    "    \n",
    "    assert len(trn_series) == len(target)\n",
    "    assert trn_series.name == tst_series.name\n",
    "    temp = pd.concat([trn_series, target], axis=1)\n",
    "    \n",
    "    averages = temp.groupby(by=trn_series.name)[target.name].agg([\"mean\", \"count\"])\n",
    "    \n",
    "    smoothing = 1 / (1 + np.exp(-(averages[\"count\"] - min_samples_leaf) / smoothing))\n",
    "    \n",
    "    prior = target.mean()\n",
    "    \n",
    "    averages[target.name] = prior * (1 - smoothing) + averages[\"mean\"] * smoothing\n",
    "    averages.drop([\"mean\", \"count\"], axis=1, inplace=True)\n",
    "    \n",
    "    ft_trn_series = pd.merge(\n",
    "        trn_series.to_frame(trn_series.name),\n",
    "        averages.reset_index().rename(columns={'index': target.name, target.name: 'average'}),\n",
    "        on=trn_series.name,\n",
    "        how='left')['average'].rename(trn_series.name + '_mean').fillna(prior)\n",
    "    \n",
    "    ft_trn_series.index = trn_series.index \n",
    "    ft_tst_series = pd.merge(\n",
    "        tst_series.to_frame(tst_series.name),\n",
    "        averages.reset_index().rename(columns={'index': target.name, target.name: 'average'}),\n",
    "        on=tst_series.name,\n",
    "        how='left')['average'].rename(trn_series.name + '_mean').fillna(prior)\n",
    "    \n",
    "    ft_tst_series.index = tst_series.index\n",
    "    return add_noise(ft_trn_series, noise_level), add_noise(ft_tst_series, noise_level)"
   ]
  },
  {
   "cell_type": "code",
   "execution_count": null,
   "id": "8b005c8c",
   "metadata": {},
   "outputs": [],
   "source": [
    "train_encoded, test_encoded = target_encode(train[\"ps_car_11_cat\"], \n",
    "                             test[\"ps_car_11_cat\"], \n",
    "                             target=train.target, \n",
    "                             min_samples_leaf=100,\n",
    "                             smoothing=10,\n",
    "                             noise_level=0.01)\n",
    "    \n",
    "train['ps_car_11_cat_te'] = train_encoded\n",
    "train.drop('ps_car_11_cat', axis=1, inplace=True)\n",
    "meta.loc['ps_car_11_cat','keep'] = False  # Updating the meta\n",
    "test['ps_car_11_cat_te'] = test_encoded\n",
    "test.drop('ps_car_11_cat', axis=1, inplace=True)"
   ]
  },
  {
   "cell_type": "code",
   "execution_count": null,
   "id": "c2faeef6",
   "metadata": {},
   "outputs": [],
   "source": [
    "# def add_noise(series, noise_level):\n",
    "#     return series * (1 + noise_level * np.random.randn(len(series)))\n",
    "\n",
    "# def target_encode(trn_series = None,\n",
    "#                   tst_series = None,\n",
    "#                   target = None,\n",
    "#                   min_samples_leaf = 1,\n",
    "#                   smoothing = 1,\n",
    "#                   noise_level = 0):\n",
    "    \n",
    "    \n",
    "    \n",
    "#     assert len(trn_series) == len(target)\n",
    "#     assert trn_series.name == tst_series.name\n",
    "#     temp = pd.concat([trn_series, target], axis=1)\n",
    "#     # Compute target mean\n",
    "#     averages = temp.groupby(by=trn_series.name)[target.name].agg(['mean', 'count'])\n",
    "    \n",
    "#     # Compute smoothing\n",
    "#     smoothing = 1 / (1 + np.exp(-(averages['count'] - min_samples_leaf) / smoothing))\n",
    "    \n",
    "#     # Apply average funtion to all target data\n",
    "#     prior = target.mean()\n",
    "    \n",
    "#     #The bigger the count the less full_avg is taken into account\n",
    "#     averages[target.name] = prior * (1 - smoothing) + averages['mean'] * smoothing\n",
    "#     averages.drop(['mean', 'count'], axis=1, inplace=True)\n",
    "    \n",
    "#     # Apply averages to trn and tst series\n",
    "#     ft_trn_series = pd.merge(\n",
    "#         trn_series.to_frame(trn_series.name),\n",
    "#         averages.reset_index().rename(columns={'index': target.name, target.name: 'average'}),\n",
    "#         on = trn_series.name,\n",
    "#         how = 'left')['average'].rename(trn_series.name + '_mean').fillna(prior)\n",
    "#     # pd.merge does not keep the index so restore it\n",
    "#     ft_trn_series.index = trn_series.index\n",
    "#     ft_tst_series = pd.merge(\n",
    "#         tst_series.to_frame(tst_series.name),\n",
    "#         averages.reset_index().rename(columns={'index': target.name, target.name: 'average'}),\n",
    "#         on = tst_series.name,\n",
    "#         how='left')['average'].rename(trn_series.name + '_mean').fillna(prior)\n",
    "#     # pd.merge does not keep the index so restore it\n",
    "#     ft_tst_series.index = tst_series.index\n",
    "#     return add_noise(ft_trn_series, noise_level), add_noise(ft_tst_series, noise_level)"
   ]
  },
  {
   "cell_type": "code",
   "execution_count": null,
   "id": "42c1d814",
   "metadata": {},
   "outputs": [],
   "source": [
    "# train_encoded, test_encoded = target_encode(train['ps_car_11_cat'],\n",
    "#                               test['ps_car_11_cat'],\n",
    "#                               target = train.target,\n",
    "#                               min_samples_leaf=100,\n",
    "#                               smoothing=10,\n",
    "#                               noise_level=0.01)\n",
    "\n",
    "# train['ps_car_11_cat_te'] = train_encoded\n",
    "# train.drop('ps_car_11_cat', axis=1, inplace=True)\n",
    "\n",
    "# meta.loc['ps_car_11_cat','keep'] = False\n",
    "# test['ps_car_11_cat_te'] = test_encoded\n",
    "# test.drop('ps_car_11_cat', axis=1, inplace=True)"
   ]
  },
  {
   "cell_type": "markdown",
   "id": "6ed8e0b4",
   "metadata": {},
   "source": [
    "## EDA"
   ]
  },
  {
   "cell_type": "markdown",
   "id": "c8788dad",
   "metadata": {},
   "source": [
    "### Exploratory Data Visualization"
   ]
  },
  {
   "cell_type": "markdown",
   "id": "1d81f287",
   "metadata": {},
   "source": [
    "Categorical variables"
   ]
  },
  {
   "cell_type": "code",
   "execution_count": null,
   "id": "b1e820df",
   "metadata": {},
   "outputs": [],
   "source": [
    "v = meta[(meta.level == 'nominal') & (meta.keep)].index"
   ]
  },
  {
   "cell_type": "code",
   "execution_count": null,
   "id": "e8818938",
   "metadata": {},
   "outputs": [],
   "source": [
    "v"
   ]
  },
  {
   "cell_type": "code",
   "execution_count": null,
   "id": "15b1adc1",
   "metadata": {},
   "outputs": [],
   "source": [
    "f"
   ]
  },
  {
   "cell_type": "code",
   "execution_count": null,
   "id": "e410ea53",
   "metadata": {},
   "outputs": [],
   "source": [
    "sns.set(font_scale = 2)"
   ]
  },
  {
   "cell_type": "code",
   "execution_count": null,
   "id": "b5e60798",
   "metadata": {
    "scrolled": true
   },
   "outputs": [],
   "source": [
    "for f in v:\n",
    "    plt.figure()\n",
    "\n",
    "    fig, ax = plt.subplots(figsize=(20, 10))\n",
    "\n",
    "    cat_perc = train[[f, 'target']].groupby([f], as_index=False).mean()\n",
    "    cat_perc.sort_values(by='target', ascending=False, inplace=True)\n",
    "\n",
    "    sns.barplot(data=cat_perc, x=f, y='target', order=cat_perc[f])\n",
    "    plt.ylabel('% target')\n",
    "    plt.xlabel(f)\n",
    "    plt.tick_params(axis='both', which='major')\n",
    "    plt.show();"
   ]
  },
  {
   "cell_type": "code",
   "execution_count": null,
   "id": "e72383be",
   "metadata": {},
   "outputs": [],
   "source": [
    "cat_perc"
   ]
  },
  {
   "cell_type": "code",
   "execution_count": null,
   "id": "71b07802",
   "metadata": {},
   "outputs": [],
   "source": [
    "f = 'ps_car_02_cat'"
   ]
  },
  {
   "cell_type": "code",
   "execution_count": null,
   "id": "3d5731fc",
   "metadata": {},
   "outputs": [],
   "source": [
    "cat_perc = train[[f, 'target']].groupby([f], as_index=False).agg(['mean', 'count'])\n",
    "# cat_perc.sort_values(by='target', ascending=False, inplace=True)"
   ]
  },
  {
   "cell_type": "code",
   "execution_count": null,
   "id": "3e4c412f",
   "metadata": {},
   "outputs": [],
   "source": [
    "cat_perc"
   ]
  },
  {
   "cell_type": "markdown",
   "id": "723ae2e6",
   "metadata": {},
   "source": [
    "## Interval variables"
   ]
  },
  {
   "cell_type": "code",
   "execution_count": null,
   "id": "8e4edb7c",
   "metadata": {},
   "outputs": [],
   "source": [
    "v = meta[(meta.level == 'interval') & (meta.keep)].index"
   ]
  },
  {
   "cell_type": "code",
   "execution_count": null,
   "id": "a877e129",
   "metadata": {},
   "outputs": [],
   "source": [
    "v"
   ]
  },
  {
   "cell_type": "code",
   "execution_count": null,
   "id": "9501555c",
   "metadata": {},
   "outputs": [],
   "source": [
    "correlations = train[v].corr()"
   ]
  },
  {
   "cell_type": "code",
   "execution_count": null,
   "id": "bfbc8e11",
   "metadata": {
    "scrolled": true
   },
   "outputs": [],
   "source": [
    "cmap = sns.diverging_palette(220, 10, as_cmap=True)"
   ]
  },
  {
   "cell_type": "code",
   "execution_count": null,
   "id": "0279b2c8",
   "metadata": {},
   "outputs": [],
   "source": [
    "sns.set(font_scale=0.7)"
   ]
  },
  {
   "cell_type": "code",
   "execution_count": null,
   "id": "071015bb",
   "metadata": {
    "scrolled": false
   },
   "outputs": [],
   "source": [
    "fig, ax = plt.subplots(figsize=(10, 10))\n",
    "sns.heatmap(correlations, cmap=cmap, vmax=1.0, center=0, fmt='.2f',\n",
    "                square=True, linewidths=.5, annot=True, cbar_kws={'shrink': .75})\n",
    "plt.show()"
   ]
  },
  {
   "cell_type": "markdown",
   "id": "1a3a437e",
   "metadata": {},
   "source": [
    "There are a strong correlations between the variables:\n",
    "\n",
    "- ps_reg_02 and ps_reg_03 (0.7)\n",
    "- ps_car_12 and ps_car13 (0.67)\n",
    "- ps_car_12 and ps_car14 (0.58)\n",
    "- ps_car_13 and ps_car15 (0.67)"
   ]
  },
  {
   "cell_type": "code",
   "execution_count": null,
   "id": "9f959a3b",
   "metadata": {},
   "outputs": [],
   "source": [
    "s = train.sample(frac=0.1)"
   ]
  },
  {
   "cell_type": "code",
   "execution_count": null,
   "id": "4e5903c7",
   "metadata": {},
   "outputs": [],
   "source": [
    "sns.lmplot(data=s, x='ps_reg_02', y='ps_reg_03'\n",
    "          , hue='target', palette='Set1', scatter_kws={'alpha':0.2})\n",
    "plt.show()"
   ]
  },
  {
   "cell_type": "code",
   "execution_count": null,
   "id": "358c421f",
   "metadata": {},
   "outputs": [],
   "source": [
    "sns.lmplot(data=s, x='ps_car_12', y='ps_car_13'\n",
    "          , hue='target', palette='Set1', scatter_kws={'alpha':0.2})\n",
    "plt.show()"
   ]
  },
  {
   "cell_type": "code",
   "execution_count": null,
   "id": "ec7a3d47",
   "metadata": {},
   "outputs": [],
   "source": [
    "sns.lmplot(data=s, x='ps_car_12', y='ps_car_14'\n",
    "           , hue='target', palette='Set1', scatter_kws={'alpha':0.2})\n",
    "plt.show()"
   ]
  },
  {
   "cell_type": "code",
   "execution_count": null,
   "id": "c788ba59",
   "metadata": {},
   "outputs": [],
   "source": [
    "sns.lmplot(data=s, x='ps_car_15', y='ps_car_13'\n",
    "           , hue='target', palette='Set1', scatter_kws={'alpha':0.3})\n",
    "plt.show()"
   ]
  },
  {
   "cell_type": "markdown",
   "id": "d7b7e56b",
   "metadata": {},
   "source": [
    "## Feature engineering"
   ]
  },
  {
   "cell_type": "markdown",
   "id": "f1fc9ca9",
   "metadata": {},
   "source": [
    "- Creating dummy variables"
   ]
  },
  {
   "cell_type": "code",
   "execution_count": null,
   "id": "6e718e50",
   "metadata": {},
   "outputs": [],
   "source": [
    "v = meta[(meta.level == 'nominal') & (meta.keep)].index"
   ]
  },
  {
   "cell_type": "code",
   "execution_count": null,
   "id": "529993fe",
   "metadata": {},
   "outputs": [],
   "source": [
    "train.shape[1]"
   ]
  },
  {
   "cell_type": "code",
   "execution_count": null,
   "id": "95309d35",
   "metadata": {},
   "outputs": [],
   "source": [
    "train = pd.get_dummies(train, columns=v, drop_first=True)"
   ]
  },
  {
   "cell_type": "code",
   "execution_count": null,
   "id": "76f234ec",
   "metadata": {},
   "outputs": [],
   "source": [
    "train.shape"
   ]
  },
  {
   "cell_type": "markdown",
   "id": "a50393b0",
   "metadata": {},
   "source": [
    "- Creating interaction variables"
   ]
  },
  {
   "cell_type": "code",
   "execution_count": null,
   "id": "e4d04dd4",
   "metadata": {},
   "outputs": [],
   "source": [
    "v = meta[(meta.level =='interval') & (meta.keep)].index"
   ]
  },
  {
   "cell_type": "code",
   "execution_count": null,
   "id": "01d795f2",
   "metadata": {},
   "outputs": [],
   "source": [
    "poly = PolynomialFeatures(degree=2, interaction_only=False, include_bias=False)"
   ]
  },
  {
   "cell_type": "code",
   "execution_count": null,
   "id": "cf7b79ed",
   "metadata": {
    "scrolled": false
   },
   "outputs": [],
   "source": [
    "interactions = pd.DataFrame(data=poly.fit_transform(train[v]), columns=poly.get_feature_names_out(v))"
   ]
  },
  {
   "cell_type": "code",
   "execution_count": null,
   "id": "0932c4cb",
   "metadata": {},
   "outputs": [],
   "source": [
    "interactions.drop(v, axis=1, inplace=True)"
   ]
  },
  {
   "cell_type": "code",
   "execution_count": null,
   "id": "0b25b072",
   "metadata": {},
   "outputs": [],
   "source": [
    "train.shape"
   ]
  },
  {
   "cell_type": "code",
   "execution_count": null,
   "id": "9d8bf50b",
   "metadata": {},
   "outputs": [],
   "source": [
    "train = pd.concat([train, interactions], axis=1)"
   ]
  },
  {
   "cell_type": "code",
   "execution_count": null,
   "id": "53c6150d",
   "metadata": {},
   "outputs": [],
   "source": []
  },
  {
   "cell_type": "markdown",
   "id": "9abeb196",
   "metadata": {},
   "source": [
    "## Feature selection"
   ]
  },
  {
   "cell_type": "code",
   "execution_count": null,
   "id": "1d37591a",
   "metadata": {},
   "outputs": [],
   "source": [
    "selector = VarianceThreshold(threshold=0.01)"
   ]
  },
  {
   "cell_type": "code",
   "execution_count": null,
   "id": "e251369f",
   "metadata": {},
   "outputs": [],
   "source": [
    "selector.fit(train.drop(['id', 'target'], axis=1))"
   ]
  },
  {
   "cell_type": "code",
   "execution_count": null,
   "id": "3940ac9a",
   "metadata": {},
   "outputs": [],
   "source": [
    "v = train.drop(['id', 'target']. axis=1)"
   ]
  },
  {
   "cell_type": "code",
   "execution_count": null,
   "id": "cc65502d",
   "metadata": {},
   "outputs": [],
   "source": [
    "f = np.vectorize(lambda x: not x) # -> ~"
   ]
  },
  {
   "cell_type": "code",
   "execution_count": null,
   "id": "3a7cfa1c",
   "metadata": {},
   "outputs": [],
   "source": [
    "print('{} variables have too low variance.'.format(len(v)))\n",
    "print('These variables are {}'.format(list(v)))"
   ]
  },
  {
   "cell_type": "code",
   "execution_count": null,
   "id": "cea4c299",
   "metadata": {},
   "outputs": [],
   "source": [
    "X_train = train.drop(['id', 'target'], axis=1)\n",
    "y_train = train['target']"
   ]
  },
  {
   "cell_type": "code",
   "execution_count": null,
   "id": "fb24e23a",
   "metadata": {},
   "outputs": [],
   "source": [
    "feat_labels = X_train.columns"
   ]
  },
  {
   "cell_type": "code",
   "execution_count": null,
   "id": "5c4fce19",
   "metadata": {},
   "outputs": [],
   "source": [
    "rf = RandomForestClassifier(n_estimators=200000, random_state=0, n_jobs=-1)"
   ]
  },
  {
   "cell_type": "code",
   "execution_count": null,
   "id": "4f846089",
   "metadata": {},
   "outputs": [],
   "source": [
    "rf.fit(X_train[:1000], y_train[:1000])"
   ]
  },
  {
   "cell_type": "code",
   "execution_count": null,
   "id": "3a88c799",
   "metadata": {},
   "outputs": [],
   "source": [
    "importances = rf.feature_importances_"
   ]
  },
  {
   "cell_type": "code",
   "execution_count": null,
   "id": "778c2a56",
   "metadata": {},
   "outputs": [],
   "source": [
    "rf.get_params()"
   ]
  },
  {
   "cell_type": "code",
   "execution_count": null,
   "id": "a48fb15e",
   "metadata": {},
   "outputs": [],
   "source": [
    "indices = np.argsort(rf.feature_importances_)[::-1]"
   ]
  },
  {
   "cell_type": "code",
   "execution_count": null,
   "id": "d791ad7a",
   "metadata": {},
   "outputs": [],
   "source": [
    "indices"
   ]
  },
  {
   "cell_type": "code",
   "execution_count": null,
   "id": "77feb04d",
   "metadata": {
    "scrolled": true
   },
   "outputs": [],
   "source": [
    "for f in range(X_train.shape[1]):\n",
    "    print('%2d %-*s %f' % (f + 1, 30, feat_labels[indices[f]], importances[indices[f]]))"
   ]
  },
  {
   "cell_type": "code",
   "execution_count": null,
   "id": "c28002d6",
   "metadata": {},
   "outputs": [],
   "source": []
  },
  {
   "cell_type": "code",
   "execution_count": null,
   "id": "65658e30",
   "metadata": {},
   "outputs": [],
   "source": []
  },
  {
   "cell_type": "code",
   "execution_count": null,
   "id": "e4bfac46",
   "metadata": {},
   "outputs": [],
   "source": []
  },
  {
   "cell_type": "code",
   "execution_count": null,
   "id": "adc460cf",
   "metadata": {},
   "outputs": [],
   "source": []
  },
  {
   "cell_type": "code",
   "execution_count": null,
   "id": "0b3e23cc",
   "metadata": {},
   "outputs": [],
   "source": []
  },
  {
   "cell_type": "code",
   "execution_count": null,
   "id": "1b0c2d5a",
   "metadata": {},
   "outputs": [],
   "source": []
  },
  {
   "cell_type": "code",
   "execution_count": null,
   "id": "d0a22e42",
   "metadata": {},
   "outputs": [],
   "source": []
  },
  {
   "cell_type": "code",
   "execution_count": null,
   "id": "dcac2f62",
   "metadata": {},
   "outputs": [],
   "source": []
  },
  {
   "cell_type": "code",
   "execution_count": null,
   "id": "65a0f0c2",
   "metadata": {},
   "outputs": [],
   "source": []
  },
  {
   "cell_type": "code",
   "execution_count": null,
   "id": "b6161ea7",
   "metadata": {},
   "outputs": [],
   "source": []
  }
 ],
 "metadata": {
  "kernelspec": {
   "display_name": "Python 3 (ipykernel)",
   "language": "python",
   "name": "python3"
  },
  "language_info": {
   "codemirror_mode": {
    "name": "ipython",
    "version": 3
   },
   "file_extension": ".py",
   "mimetype": "text/x-python",
   "name": "python",
   "nbconvert_exporter": "python",
   "pygments_lexer": "ipython3",
   "version": "3.11.3"
  }
 },
 "nbformat": 4,
 "nbformat_minor": 5
}
